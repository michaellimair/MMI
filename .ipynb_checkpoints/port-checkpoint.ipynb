{
 "cells": [
  {
   "cell_type": "code",
   "execution_count": 1,
   "metadata": {},
   "outputs": [],
   "source": [
    "import numpy as np\n",
    "\n",
    "import rpy2.robjects as robj\n",
    "import rpy2.robjects.packages as rpackages\n",
    "import rpy2.robjects.numpy2ri\n",
    "rpy2.robjects.numpy2ri.activate()\n",
    "\n",
    "from rpy2.robjects.numpy2ri import numpy2ri\n",
    "\n",
    "#define random seed\n",
    "iter = 1000\n",
    "np.random.seed(iter)"
   ]
  },
  {
   "cell_type": "code",
   "execution_count": 2,
   "metadata": {},
   "outputs": [],
   "source": [
    "def pwr_calc(model, n, coef):\n",
    "    #define noise\n",
    "    if (model <= 16):\n",
    "        noise = pow(10,(1/24*(coef-1)))\n",
    "    \n",
    "    #define models\n",
    "    #model 1: linear with symmetric additive noise\n",
    "    if (model == 1):\n",
    "        xs = np.random.normal(size=n)\n",
    "        ys = (2/3)*xs + noise * np.random.normal(n)\n",
    "    #model 2: linear with asymmetric additive noise\n",
    "    if (model == 2):\n",
    "        xs = np.random.normal(size=n)\n",
    "        ys = (0.05)*xs + noise * ((pow(np.random.normal(n),2)) - 1)\n",
    "    #model 3: quadratic with additive noise\n",
    "    if (model == 3):\n",
    "        xs = np.random.normal(size=n)\n",
    "        ys = (2/3)*xs*xs + noise * np.random.normal(n)\n",
    "\n",
    "    #import jackknife approach library\n",
    "    mJMI = rpackages.importr('mJMI')\n",
    "\n",
    "    #reshape dataset to become a 2d array with 1 column\n",
    "    xs = xs.reshape(-1,1)\n",
    "    ys = ys.reshape(-1,1)\n",
    "    \n",
    "    #convert data to R matrix\n",
    "    xr, xc = xs.shape\n",
    "    x = robj.r.matrix(xs, nrow=xr, ncol=xc)\n",
    "    yr, yc = ys.shape\n",
    "    y = robj.r.matrix(ys, nrow=yr, ncol=yc)\n",
    "  \n",
    "    jmi = mJMI.mJMICpp(x,y,1000)\n",
    "    \n",
    "    print(\"The mutual information for model %s and coefficient %s is: %s\" % (model, \n",
    "                                                                             coef, \n",
    "                                                                             jmi.rx2('mi')[0]))"
   ]
  },
  {
   "cell_type": "code",
   "execution_count": 3,
   "metadata": {},
   "outputs": [
    {
     "name": "stdout",
     "output_type": "stream",
     "text": [
      "The mutual information for model 1 and coefficient 1 is: 5.202398342073842\n",
      "The mutual information for model 1 and coefficient 2 is: 5.2023983420738436\n",
      "The mutual information for model 1 and coefficient 3 is: 5.2023983420738436\n",
      "The mutual information for model 2 and coefficient 1 is: 5.202398342073843\n",
      "The mutual information for model 2 and coefficient 2 is: 5.202398342073841\n",
      "The mutual information for model 2 and coefficient 3 is: 5.202398342073842\n",
      "The mutual information for model 3 and coefficient 1 is: 4.693332156392547\n",
      "The mutual information for model 3 and coefficient 2 is: 4.72418490208367\n",
      "The mutual information for model 3 and coefficient 3 is: 4.67448146293298\n"
     ]
    }
   ],
   "source": [
    "model_length = 3\n",
    "coef_ran = 3\n",
    "n = 320\n",
    "\n",
    "for model in range(1, model_length + 1):\n",
    "    for coef in range(1, coef_ran + 1):\n",
    "        pwr_calc(model, n, coef)"
   ]
  },
  {
   "cell_type": "code",
   "execution_count": null,
   "metadata": {},
   "outputs": [],
   "source": []
  }
 ],
 "metadata": {
  "kernelspec": {
   "display_name": "Python 3",
   "language": "python",
   "name": "python3"
  },
  "language_info": {
   "codemirror_mode": {
    "name": "ipython",
    "version": 3
   },
   "file_extension": ".py",
   "mimetype": "text/x-python",
   "name": "python",
   "nbconvert_exporter": "python",
   "pygments_lexer": "ipython3",
   "version": "3.7.0"
  }
 },
 "nbformat": 4,
 "nbformat_minor": 2
}
